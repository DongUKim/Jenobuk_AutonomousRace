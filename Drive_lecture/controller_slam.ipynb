{
 "cells": [
  {
   "cell_type": "code",
   "execution_count": 1,
   "metadata": {},
   "outputs": [],
   "source": [
    "from nav2_simple_commander.robot_navigator import BasicNavigator\n",
    "import rclpy\n",
    "from geometry_msgs.msg import PoseStamped\n",
    "from rclpy.node import Node"
   ]
  },
  {
   "cell_type": "code",
   "execution_count": null,
   "metadata": {},
   "outputs": [],
   "source": [
    "rclpy.init()\n",
    "nav = BasicNavigator()\n",
    "nav.waitUntilNav2Active()\n",
    "\n",
    "# 좌표 설정\n",
    "goal_pose = PoseStamped()\n",
    "goal_pose.header.frame_id = 'map'\n",
    "goal_pose.header.stamp = nav.get_clock().now().to_msg()"
   ]
  }
 ],
 "metadata": {
  "kernelspec": {
   "display_name": "Python 3",
   "language": "python",
   "name": "python3"
  },
  "language_info": {
   "codemirror_mode": {
    "name": "ipython",
    "version": 3
   },
   "file_extension": ".py",
   "mimetype": "text/x-python",
   "name": "python",
   "nbconvert_exporter": "python",
   "pygments_lexer": "ipython3",
   "version": "3.10.12"
  }
 },
 "nbformat": 4,
 "nbformat_minor": 2
}
