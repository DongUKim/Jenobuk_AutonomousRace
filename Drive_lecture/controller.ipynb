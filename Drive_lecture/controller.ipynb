{
 "cells": [
  {
   "cell_type": "code",
   "execution_count": null,
   "metadata": {},
   "outputs": [],
   "source": [
    "from controller import RunPinkbot"
   ]
  },
  {
   "cell_type": "code",
   "execution_count": null,
   "metadata": {},
   "outputs": [],
   "source": [
    "x = 0.2 # 직진 방향과 속도를 조절\n",
    "theta = 0.0 # 회전 방향과 속도를 조절, + 값이면 반시계방향, - 값이면 시계방향이다\n",
    "speed = 0.2 # 직진과 회전 속도를 조절한다.\n",
    "time_action = 3.0 # 모터 동작 시간을 조절한다."
   ]
  },
  {
   "cell_type": "code",
   "execution_count": null,
   "metadata": {},
   "outputs": [],
   "source": [
    "test = RunPinkbot.drive_test(x,speed,theta,time_action) # 모터 구동 실행\n"
   ]
  }
 ],
 "metadata": {
  "kernelspec": {
   "display_name": "Python 3",
   "language": "python",
   "name": "python3"
  },
  "language_info": {
   "codemirror_mode": {
    "name": "ipython",
    "version": 3
   },
   "file_extension": ".py",
   "mimetype": "text/x-python",
   "name": "python",
   "nbconvert_exporter": "python",
   "pygments_lexer": "ipython3",
   "version": "3.10.12"
  }
 },
 "nbformat": 4,
 "nbformat_minor": 2
}
